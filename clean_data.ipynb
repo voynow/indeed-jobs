{
 "cells": [
  {
   "cell_type": "markdown",
   "id": "260ddaff",
   "metadata": {},
   "source": [
    "# Continuing our orignial efforts... and starting something new\n",
    "Since we ran into some issues with the selenium web scraping (AKA they figured out that I was using a bot), lets just use this dataset (https://www.kaggle.com/andrewmvd/data-scientist-jobs) to continue our analysis. It may seem unfortunate that our web scraping efforts have come to a halt, although I am partially satisfied knowing that I now have a working understanding of selenium and will still be able to conclude my data science job description analysis."
   ]
  },
  {
   "cell_type": "code",
   "execution_count": 3,
   "id": "4def9b7e",
   "metadata": {},
   "outputs": [],
   "source": [
    "import os\n",
    "import string\n",
    "\n",
    "import numpy as np\n",
    "import pandas as pd\n",
    "import matplotlib.pyplot as plt\n",
    "\n",
    "from nltk.corpus import stopwords"
   ]
  },
  {
   "cell_type": "code",
   "execution_count": 4,
   "id": "2251177f",
   "metadata": {},
   "outputs": [],
   "source": [
    "# desired columns for the time being\n",
    "usecols = [\n",
    "    'Job Title',\n",
    "    'Company Name',\n",
    "    'Location',\n",
    "    'Salary Estimate',\n",
    "    'Job Description']\n",
    "\n",
    "rename = [\n",
    "    'title',\n",
    "    'company',\n",
    "    'location',\n",
    "    'salary_estimate',\n",
    "    'description']\n",
    "\n",
    "stop_words = stopwords.words('english')"
   ]
  },
  {
   "cell_type": "code",
   "execution_count": 5,
   "id": "79600e99",
   "metadata": {},
   "outputs": [
    {
     "name": "stdout",
     "output_type": "stream",
     "text": [
      "Remaining Columns:\n",
      "   0. Job Title\n",
      "   1. Company Name\n",
      "   2. Location\n",
      "   3. Salary Estimate\n",
      "   4. Job Description\n"
     ]
    }
   ],
   "source": [
    "# lets grab this csv from my data folder\n",
    "path = \"C://Users//voyno//Desktop\\\\indeed-jobs\\\\data\\\\data_scientist_jobs.csv\"\n",
    "df = pd.read_csv(path, usecols=usecols)[usecols]\n",
    "\n",
    "# show current columns\n",
    "print(\"Remaining Columns:\")\n",
    "for i, col in enumerate(df.columns):\n",
    "    print(f'{i:4}. {col}')"
   ]
  },
  {
   "cell_type": "code",
   "execution_count": 6,
   "id": "eeec60ef",
   "metadata": {},
   "outputs": [
    {
     "name": "stdout",
     "output_type": "stream",
     "text": [
      "New Column names:\n",
      "   0. title\n",
      "   1. company\n",
      "   2. location\n",
      "   3. salary_estimate\n",
      "   4. description\n"
     ]
    }
   ],
   "source": [
    "# update column names\n",
    "df.columns = rename\n",
    "\n",
    "print(\"New Column names:\")\n",
    "for i, col in enumerate(df.columns):\n",
    "    print(f'{i:4}. {col}')"
   ]
  },
  {
   "cell_type": "code",
   "execution_count": 7,
   "id": "81030790",
   "metadata": {},
   "outputs": [
    {
     "data": {
      "text/html": [
       "<div>\n",
       "<style scoped>\n",
       "    .dataframe tbody tr th:only-of-type {\n",
       "        vertical-align: middle;\n",
       "    }\n",
       "\n",
       "    .dataframe tbody tr th {\n",
       "        vertical-align: top;\n",
       "    }\n",
       "\n",
       "    .dataframe thead th {\n",
       "        text-align: right;\n",
       "    }\n",
       "</style>\n",
       "<table border=\"1\" class=\"dataframe\">\n",
       "  <thead>\n",
       "    <tr style=\"text-align: right;\">\n",
       "      <th></th>\n",
       "      <th>title</th>\n",
       "      <th>company</th>\n",
       "      <th>location</th>\n",
       "      <th>salary_estimate</th>\n",
       "      <th>description</th>\n",
       "    </tr>\n",
       "  </thead>\n",
       "  <tbody>\n",
       "    <tr>\n",
       "      <th>0</th>\n",
       "      <td>Senior Data Scientist</td>\n",
       "      <td>Hopper\\n3.5</td>\n",
       "      <td>New York, NY</td>\n",
       "      <td>$111K-$181K (Glassdoor est.)</td>\n",
       "      <td>ABOUT HOPPER\\n\\nAt Hopper, we’re on a mission ...</td>\n",
       "    </tr>\n",
       "    <tr>\n",
       "      <th>1</th>\n",
       "      <td>Data Scientist, Product Analytics</td>\n",
       "      <td>Noom US\\n4.5</td>\n",
       "      <td>New York, NY</td>\n",
       "      <td>$111K-$181K (Glassdoor est.)</td>\n",
       "      <td>At Noom, we use scientifically proven methods ...</td>\n",
       "    </tr>\n",
       "    <tr>\n",
       "      <th>2</th>\n",
       "      <td>Data Science Manager</td>\n",
       "      <td>Decode_M</td>\n",
       "      <td>New York, NY</td>\n",
       "      <td>$111K-$181K (Glassdoor est.)</td>\n",
       "      <td>Decode_M\\n\\nhttps://www.decode-m.com/\\n\\nData ...</td>\n",
       "    </tr>\n",
       "  </tbody>\n",
       "</table>\n",
       "</div>"
      ],
      "text/plain": [
       "                               title       company      location  \\\n",
       "0              Senior Data Scientist   Hopper\\n3.5  New York, NY   \n",
       "1  Data Scientist, Product Analytics  Noom US\\n4.5  New York, NY   \n",
       "2               Data Science Manager      Decode_M  New York, NY   \n",
       "\n",
       "                salary_estimate  \\\n",
       "0  $111K-$181K (Glassdoor est.)   \n",
       "1  $111K-$181K (Glassdoor est.)   \n",
       "2  $111K-$181K (Glassdoor est.)   \n",
       "\n",
       "                                         description  \n",
       "0  ABOUT HOPPER\\n\\nAt Hopper, we’re on a mission ...  \n",
       "1  At Noom, we use scientifically proven methods ...  \n",
       "2  Decode_M\\n\\nhttps://www.decode-m.com/\\n\\nData ...  "
      ]
     },
     "execution_count": 7,
     "metadata": {},
     "output_type": "execute_result"
    }
   ],
   "source": [
    "df.head(3)"
   ]
  },
  {
   "cell_type": "code",
   "execution_count": 8,
   "id": "348f48b1",
   "metadata": {},
   "outputs": [],
   "source": [
    "# first we will fix company field\n",
    "\n",
    "df[\"company\"] = df[\"company\"].apply(lambda x: x.split(\"\\n\")[0])"
   ]
  },
  {
   "cell_type": "code",
   "execution_count": 9,
   "id": "c08f64c2",
   "metadata": {},
   "outputs": [],
   "source": [
    "# then we will fix salary estimate values\n",
    "\n",
    "# column econding hourly salary\n",
    "df[\"hourly_salary\"] = df[\"salary_estimate\"].apply(lambda x: 1 if \"Per Hour\" in x else 0)\n",
    "\n",
    "# remove strings\n",
    "remove_strings = [\"K\", \"$\", \" (Glassdoor est.)\", \"(Employer est.)\", \"Per Hour(Glassdoor est.)\"]\n",
    "for item in remove_strings:\n",
    "    df[\"salary_estimate\"] = df[\"salary_estimate\"].apply(lambda x: x.replace(item, \"\"))\n",
    "\n",
    "# get mean of salary estimate\n",
    "df[\"salary_estimate\"] = df[\"salary_estimate\"].apply(lambda x: np.mean(list(map(int, x.split(\"-\")))))\n",
    "\n",
    "# update hour salaries to consistant with yearly data\n",
    "condition = df[\"hourly_salary\"] == 1\n",
    "df.loc[condition, \"salary_estimate\"] = df.loc[condition, \"hourly_salary\"].apply(lambda x: x * 40 * 52 / 1000)\n",
    "df.drop([\"hourly_salary\"], axis=1, inplace=True)\n",
    "\n",
    "# set salary type as int\n",
    "df['salary_estimate'] = df['salary_estimate'].astype('int')"
   ]
  },
  {
   "cell_type": "code",
   "execution_count": 15,
   "id": "ab54df67",
   "metadata": {},
   "outputs": [],
   "source": [
    "def clean_text(text):\n",
    "    \n",
    "    \"\"\" Given a sequence of text:\n",
    "            - convert all characters to lower case\n",
    "            - split text on \" \" character\n",
    "            - remove nltk english defined stop words\n",
    "            - remove words containing non alphanumerica values\n",
    "            - join with \" \" character\n",
    "            - return remaining data\n",
    "    \"\"\"    \n",
    "    text = text.lower().split()\n",
    "    text = [word.encode(\"ascii\", errors=\"ignore\").decode() for word in text if word not in stop_words and word.isalnum()]\n",
    "    text = text\n",
    "    \n",
    "    return \" \".join(text)"
   ]
  },
  {
   "cell_type": "code",
   "execution_count": 16,
   "id": "5f4234f5",
   "metadata": {},
   "outputs": [
    {
     "ename": "UnboundLocalError",
     "evalue": "local variable 'test' referenced before assignment",
     "output_type": "error",
     "traceback": [
      "\u001b[1;31m---------------------------------------------------------------------------\u001b[0m",
      "\u001b[1;31mUnboundLocalError\u001b[0m                         Traceback (most recent call last)",
      "\u001b[1;32m<ipython-input-16-bb4cf3487165>\u001b[0m in \u001b[0;36m<module>\u001b[1;34m\u001b[0m\n\u001b[0;32m      1\u001b[0m \u001b[1;31m# clean titles and descriptions\u001b[0m\u001b[1;33m\u001b[0m\u001b[1;33m\u001b[0m\u001b[1;33m\u001b[0m\u001b[0m\n\u001b[1;32m----> 2\u001b[1;33m \u001b[0mdf\u001b[0m\u001b[1;33m[\u001b[0m\u001b[1;34m\"title\"\u001b[0m\u001b[1;33m]\u001b[0m \u001b[1;33m=\u001b[0m \u001b[1;33m[\u001b[0m\u001b[0mclean_text\u001b[0m\u001b[1;33m(\u001b[0m\u001b[0mdf\u001b[0m\u001b[1;33m.\u001b[0m\u001b[0mloc\u001b[0m\u001b[1;33m[\u001b[0m\u001b[0midx\u001b[0m\u001b[1;33m,\u001b[0m \u001b[1;34m\"title\"\u001b[0m\u001b[1;33m]\u001b[0m\u001b[1;33m)\u001b[0m \u001b[1;32mfor\u001b[0m \u001b[0midx\u001b[0m \u001b[1;32min\u001b[0m \u001b[0mdf\u001b[0m\u001b[1;33m.\u001b[0m\u001b[0mindex\u001b[0m\u001b[1;33m]\u001b[0m\u001b[1;33m\u001b[0m\u001b[1;33m\u001b[0m\u001b[0m\n\u001b[0m\u001b[0;32m      3\u001b[0m \u001b[0mdf\u001b[0m\u001b[1;33m[\u001b[0m\u001b[1;34m\"description\"\u001b[0m\u001b[1;33m]\u001b[0m \u001b[1;33m=\u001b[0m \u001b[1;33m[\u001b[0m\u001b[0mclean_text\u001b[0m\u001b[1;33m(\u001b[0m\u001b[0mdf\u001b[0m\u001b[1;33m.\u001b[0m\u001b[0mloc\u001b[0m\u001b[1;33m[\u001b[0m\u001b[0midx\u001b[0m\u001b[1;33m,\u001b[0m \u001b[1;34m\"description\"\u001b[0m\u001b[1;33m]\u001b[0m\u001b[1;33m)\u001b[0m \u001b[1;32mfor\u001b[0m \u001b[0midx\u001b[0m \u001b[1;32min\u001b[0m \u001b[0mdf\u001b[0m\u001b[1;33m.\u001b[0m\u001b[0mindex\u001b[0m\u001b[1;33m]\u001b[0m\u001b[1;33m\u001b[0m\u001b[1;33m\u001b[0m\u001b[0m\n",
      "\u001b[1;32m<ipython-input-16-bb4cf3487165>\u001b[0m in \u001b[0;36m<listcomp>\u001b[1;34m(.0)\u001b[0m\n\u001b[0;32m      1\u001b[0m \u001b[1;31m# clean titles and descriptions\u001b[0m\u001b[1;33m\u001b[0m\u001b[1;33m\u001b[0m\u001b[1;33m\u001b[0m\u001b[0m\n\u001b[1;32m----> 2\u001b[1;33m \u001b[0mdf\u001b[0m\u001b[1;33m[\u001b[0m\u001b[1;34m\"title\"\u001b[0m\u001b[1;33m]\u001b[0m \u001b[1;33m=\u001b[0m \u001b[1;33m[\u001b[0m\u001b[0mclean_text\u001b[0m\u001b[1;33m(\u001b[0m\u001b[0mdf\u001b[0m\u001b[1;33m.\u001b[0m\u001b[0mloc\u001b[0m\u001b[1;33m[\u001b[0m\u001b[0midx\u001b[0m\u001b[1;33m,\u001b[0m \u001b[1;34m\"title\"\u001b[0m\u001b[1;33m]\u001b[0m\u001b[1;33m)\u001b[0m \u001b[1;32mfor\u001b[0m \u001b[0midx\u001b[0m \u001b[1;32min\u001b[0m \u001b[0mdf\u001b[0m\u001b[1;33m.\u001b[0m\u001b[0mindex\u001b[0m\u001b[1;33m]\u001b[0m\u001b[1;33m\u001b[0m\u001b[1;33m\u001b[0m\u001b[0m\n\u001b[0m\u001b[0;32m      3\u001b[0m \u001b[0mdf\u001b[0m\u001b[1;33m[\u001b[0m\u001b[1;34m\"description\"\u001b[0m\u001b[1;33m]\u001b[0m \u001b[1;33m=\u001b[0m \u001b[1;33m[\u001b[0m\u001b[0mclean_text\u001b[0m\u001b[1;33m(\u001b[0m\u001b[0mdf\u001b[0m\u001b[1;33m.\u001b[0m\u001b[0mloc\u001b[0m\u001b[1;33m[\u001b[0m\u001b[0midx\u001b[0m\u001b[1;33m,\u001b[0m \u001b[1;34m\"description\"\u001b[0m\u001b[1;33m]\u001b[0m\u001b[1;33m)\u001b[0m \u001b[1;32mfor\u001b[0m \u001b[0midx\u001b[0m \u001b[1;32min\u001b[0m \u001b[0mdf\u001b[0m\u001b[1;33m.\u001b[0m\u001b[0mindex\u001b[0m\u001b[1;33m]\u001b[0m\u001b[1;33m\u001b[0m\u001b[1;33m\u001b[0m\u001b[0m\n",
      "\u001b[1;32m<ipython-input-15-146351124975>\u001b[0m in \u001b[0;36mclean_text\u001b[1;34m(text)\u001b[0m\n\u001b[0;32m     11\u001b[0m     \u001b[0mtext\u001b[0m \u001b[1;33m=\u001b[0m \u001b[0mtext\u001b[0m\u001b[1;33m.\u001b[0m\u001b[0mlower\u001b[0m\u001b[1;33m(\u001b[0m\u001b[1;33m)\u001b[0m\u001b[1;33m.\u001b[0m\u001b[0msplit\u001b[0m\u001b[1;33m(\u001b[0m\u001b[1;33m)\u001b[0m\u001b[1;33m\u001b[0m\u001b[1;33m\u001b[0m\u001b[0m\n\u001b[0;32m     12\u001b[0m     \u001b[0mtext\u001b[0m \u001b[1;33m=\u001b[0m \u001b[1;33m[\u001b[0m\u001b[0mword\u001b[0m \u001b[1;32mfor\u001b[0m \u001b[0mword\u001b[0m \u001b[1;32min\u001b[0m \u001b[0mtext\u001b[0m \u001b[1;32mif\u001b[0m \u001b[0mword\u001b[0m \u001b[1;32mnot\u001b[0m \u001b[1;32min\u001b[0m \u001b[0mstop_words\u001b[0m \u001b[1;32mand\u001b[0m \u001b[0mword\u001b[0m\u001b[1;33m.\u001b[0m\u001b[0misalnum\u001b[0m\u001b[1;33m(\u001b[0m\u001b[1;33m)\u001b[0m\u001b[1;33m]\u001b[0m\u001b[1;33m\u001b[0m\u001b[1;33m\u001b[0m\u001b[0m\n\u001b[1;32m---> 13\u001b[1;33m     \u001b[0mtest\u001b[0m \u001b[1;33m=\u001b[0m \u001b[0mtest\u001b[0m\u001b[1;33m.\u001b[0m\u001b[0mencode\u001b[0m\u001b[1;33m(\u001b[0m\u001b[1;34m\"ascii\"\u001b[0m\u001b[1;33m,\u001b[0m \u001b[0merrors\u001b[0m\u001b[1;33m=\u001b[0m\u001b[1;34m\"ignore\"\u001b[0m\u001b[1;33m)\u001b[0m\u001b[1;33m.\u001b[0m\u001b[0mdecode\u001b[0m\u001b[1;33m(\u001b[0m\u001b[1;33m)\u001b[0m\u001b[1;33m\u001b[0m\u001b[1;33m\u001b[0m\u001b[0m\n\u001b[0m\u001b[0;32m     14\u001b[0m \u001b[1;33m\u001b[0m\u001b[0m\n\u001b[0;32m     15\u001b[0m     \u001b[1;32mreturn\u001b[0m \u001b[1;34m\" \"\u001b[0m\u001b[1;33m.\u001b[0m\u001b[0mjoin\u001b[0m\u001b[1;33m(\u001b[0m\u001b[0mtext\u001b[0m\u001b[1;33m)\u001b[0m\u001b[1;33m\u001b[0m\u001b[1;33m\u001b[0m\u001b[0m\n",
      "\u001b[1;31mUnboundLocalError\u001b[0m: local variable 'test' referenced before assignment"
     ]
    }
   ],
   "source": [
    "# clean titles and descriptions\n",
    "df[\"title\"] = [clean_text(df.loc[idx, \"title\"]) for idx in df.index]\n",
    "df[\"description\"] = [clean_text(df.loc[idx, \"description\"]) for idx in df.index]"
   ]
  },
  {
   "cell_type": "code",
   "execution_count": 14,
   "id": "99075a74",
   "metadata": {},
   "outputs": [
    {
     "data": {
      "text/html": [
       "<div>\n",
       "<style scoped>\n",
       "    .dataframe tbody tr th:only-of-type {\n",
       "        vertical-align: middle;\n",
       "    }\n",
       "\n",
       "    .dataframe tbody tr th {\n",
       "        vertical-align: top;\n",
       "    }\n",
       "\n",
       "    .dataframe thead th {\n",
       "        text-align: right;\n",
       "    }\n",
       "</style>\n",
       "<table border=\"1\" class=\"dataframe\">\n",
       "  <thead>\n",
       "    <tr style=\"text-align: right;\">\n",
       "      <th></th>\n",
       "      <th>title</th>\n",
       "      <th>company</th>\n",
       "      <th>location</th>\n",
       "      <th>salary_estimate</th>\n",
       "      <th>description</th>\n",
       "    </tr>\n",
       "  </thead>\n",
       "  <tbody>\n",
       "    <tr>\n",
       "      <th>0</th>\n",
       "      <td>senior data scientist</td>\n",
       "      <td>Hopper</td>\n",
       "      <td>New York, NY</td>\n",
       "      <td>146</td>\n",
       "      <td>hopper mission make booking travel leveraging ...</td>\n",
       "    </tr>\n",
       "    <tr>\n",
       "      <th>1</th>\n",
       "      <td>data product analytics</td>\n",
       "      <td>Noom US</td>\n",
       "      <td>New York, NY</td>\n",
       "      <td>146</td>\n",
       "      <td>use scientifically proven methods help users c...</td>\n",
       "    </tr>\n",
       "    <tr>\n",
       "      <th>2</th>\n",
       "      <td>data science manager</td>\n",
       "      <td>Decode_M</td>\n",
       "      <td>New York, NY</td>\n",
       "      <td>146</td>\n",
       "      <td>data science manager job description hiring da...</td>\n",
       "    </tr>\n",
       "    <tr>\n",
       "      <th>3</th>\n",
       "      <td>data analyst</td>\n",
       "      <td>Sapphire Digital</td>\n",
       "      <td>Lyndhurst, NJ</td>\n",
       "      <td>146</td>\n",
       "      <td>sapphire digital seeks dynamic driven data joi...</td>\n",
       "    </tr>\n",
       "    <tr>\n",
       "      <th>4</th>\n",
       "      <td>data science</td>\n",
       "      <td>United Entertainment Group</td>\n",
       "      <td>New York, NY</td>\n",
       "      <td>146</td>\n",
       "      <td>data science description edelman intelligence ...</td>\n",
       "    </tr>\n",
       "    <tr>\n",
       "      <th>...</th>\n",
       "      <td>...</td>\n",
       "      <td>...</td>\n",
       "      <td>...</td>\n",
       "      <td>...</td>\n",
       "      <td>...</td>\n",
       "    </tr>\n",
       "    <tr>\n",
       "      <th>3904</th>\n",
       "      <td>aws data engineer</td>\n",
       "      <td>Tachyon Technologies</td>\n",
       "      <td>Dublin, OH</td>\n",
       "      <td>83</td>\n",
       "      <td>us tachyon technologies digital transformation...</td>\n",
       "    </tr>\n",
       "    <tr>\n",
       "      <th>3905</th>\n",
       "      <td>data analyst â junior</td>\n",
       "      <td>Staffigo Technical Services, LLC</td>\n",
       "      <td>Columbus, OH</td>\n",
       "      <td>83</td>\n",
       "      <td>job description interpret analyze results usin...</td>\n",
       "    </tr>\n",
       "    <tr>\n",
       "      <th>3906</th>\n",
       "      <td>security analytics data engineer</td>\n",
       "      <td>PDS Tech, Inc.</td>\n",
       "      <td>Dublin, OH</td>\n",
       "      <td>83</td>\n",
       "      <td>job descriptionthe security analytics data eng...</td>\n",
       "    </tr>\n",
       "    <tr>\n",
       "      <th>3907</th>\n",
       "      <td>security analytics data engineer</td>\n",
       "      <td>Data Resource Technologies</td>\n",
       "      <td>Dublin, OH</td>\n",
       "      <td>83</td>\n",
       "      <td>security analytics data engineer interface sec...</td>\n",
       "    </tr>\n",
       "    <tr>\n",
       "      <th>3908</th>\n",
       "      <td>patient safety physician safety scientist euro...</td>\n",
       "      <td>UCB</td>\n",
       "      <td>Slough, OH</td>\n",
       "      <td>83</td>\n",
       "      <td>help us transform put skills making difference...</td>\n",
       "    </tr>\n",
       "  </tbody>\n",
       "</table>\n",
       "<p>3909 rows × 5 columns</p>\n",
       "</div>"
      ],
      "text/plain": [
       "                                                  title  \\\n",
       "0                                 senior data scientist   \n",
       "1                                data product analytics   \n",
       "2                                  data science manager   \n",
       "3                                          data analyst   \n",
       "4                                          data science   \n",
       "...                                                 ...   \n",
       "3904                                  aws data engineer   \n",
       "3905                              data analyst â junior   \n",
       "3906                   security analytics data engineer   \n",
       "3907                   security analytics data engineer   \n",
       "3908  patient safety physician safety scientist euro...   \n",
       "\n",
       "                               company       location  salary_estimate  \\\n",
       "0                               Hopper   New York, NY              146   \n",
       "1                              Noom US   New York, NY              146   \n",
       "2                             Decode_M   New York, NY              146   \n",
       "3                     Sapphire Digital  Lyndhurst, NJ              146   \n",
       "4           United Entertainment Group   New York, NY              146   \n",
       "...                                ...            ...              ...   \n",
       "3904              Tachyon Technologies     Dublin, OH               83   \n",
       "3905  Staffigo Technical Services, LLC   Columbus, OH               83   \n",
       "3906                    PDS Tech, Inc.     Dublin, OH               83   \n",
       "3907        Data Resource Technologies     Dublin, OH               83   \n",
       "3908                               UCB     Slough, OH               83   \n",
       "\n",
       "                                            description  \n",
       "0     hopper mission make booking travel leveraging ...  \n",
       "1     use scientifically proven methods help users c...  \n",
       "2     data science manager job description hiring da...  \n",
       "3     sapphire digital seeks dynamic driven data joi...  \n",
       "4     data science description edelman intelligence ...  \n",
       "...                                                 ...  \n",
       "3904  us tachyon technologies digital transformation...  \n",
       "3905  job description interpret analyze results usin...  \n",
       "3906  job descriptionthe security analytics data eng...  \n",
       "3907  security analytics data engineer interface sec...  \n",
       "3908  help us transform put skills making difference...  \n",
       "\n",
       "[3909 rows x 5 columns]"
      ]
     },
     "execution_count": 14,
     "metadata": {},
     "output_type": "execute_result"
    }
   ],
   "source": [
    "df"
   ]
  },
  {
   "cell_type": "code",
   "execution_count": 13,
   "id": "96d39721",
   "metadata": {},
   "outputs": [],
   "source": [
    "# df.to_csv('data/cleaned_jobs.csv', index=False)"
   ]
  },
  {
   "cell_type": "markdown",
   "id": "7a9eddc5",
   "metadata": {},
   "source": [
    "## Alright, now our data is clean! (or at least clean enough for now)"
   ]
  }
 ],
 "metadata": {
  "kernelspec": {
   "display_name": "Python 3",
   "language": "python",
   "name": "python3"
  },
  "language_info": {
   "codemirror_mode": {
    "name": "ipython",
    "version": 3
   },
   "file_extension": ".py",
   "mimetype": "text/x-python",
   "name": "python",
   "nbconvert_exporter": "python",
   "pygments_lexer": "ipython3",
   "version": "3.8.8"
  }
 },
 "nbformat": 4,
 "nbformat_minor": 5
}
