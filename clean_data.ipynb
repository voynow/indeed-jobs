{
 "cells": [
  {
   "cell_type": "markdown",
   "id": "260ddaff",
   "metadata": {},
   "source": [
    "# Continuing our orignial efforts... and starting something new\n",
    "Since we ran into some issues with the selenium web scraping (AKA they figured out that I was using a bot), lets just use this dataset (https://www.kaggle.com/andrewmvd/data-scientist-jobs) to continue our analysis. It may seem unfortunate that our web scraping efforts have come to a halt, although I am partially satisfied knowing that I now have a working understanding of selenium and will still be able to conclude my data science job description analysis."
   ]
  },
  {
   "cell_type": "code",
   "execution_count": 11,
   "id": "4def9b7e",
   "metadata": {},
   "outputs": [],
   "source": [
    "import os\n",
    "import string\n",
    "\n",
    "import numpy as np\n",
    "import pandas as pd\n",
    "import matplotlib.pyplot as plt\n",
    "\n",
    "from nltk.corpus import stopwords"
   ]
  },
  {
   "cell_type": "code",
   "execution_count": 12,
   "id": "2251177f",
   "metadata": {},
   "outputs": [],
   "source": [
    "# desired columns for the time being\n",
    "usecols = [\n",
    "    'Job Title',\n",
    "    'Company Name',\n",
    "    'Location',\n",
    "    'Salary Estimate',\n",
    "    'Job Description']\n",
    "\n",
    "rename = [\n",
    "    'title',\n",
    "    'company',\n",
    "    'location',\n",
    "    'salary_estimate',\n",
    "    'description']\n",
    "\n",
    "stop_words = stopwords.words('english')"
   ]
  },
  {
   "cell_type": "code",
   "execution_count": 13,
   "id": "79600e99",
   "metadata": {},
   "outputs": [
    {
     "name": "stdout",
     "output_type": "stream",
     "text": [
      "Remaining Columns:\n",
      "   0. Job Title\n",
      "   1. Company Name\n",
      "   2. Location\n",
      "   3. Salary Estimate\n",
      "   4. Job Description\n"
     ]
    }
   ],
   "source": [
    "# lets grab this csv from my data folder\n",
    "path = \"C://Users//voyno//Desktop\\\\indeed-jobs\\\\data\\\\data_scientist_jobs.csv\"\n",
    "df = pd.read_csv(path, usecols=usecols)[usecols]\n",
    "\n",
    "# show current columns\n",
    "print(\"Remaining Columns:\")\n",
    "for i, col in enumerate(df.columns):\n",
    "    print(f'{i:4}. {col}')"
   ]
  },
  {
   "cell_type": "code",
   "execution_count": 14,
   "id": "eeec60ef",
   "metadata": {},
   "outputs": [
    {
     "name": "stdout",
     "output_type": "stream",
     "text": [
      "New Column names:\n",
      "   0. title\n",
      "   1. company\n",
      "   2. location\n",
      "   3. salary_estimate\n",
      "   4. description\n"
     ]
    }
   ],
   "source": [
    "# update column names\n",
    "df.columns = rename\n",
    "\n",
    "print(\"New Column names:\")\n",
    "for i, col in enumerate(df.columns):\n",
    "    print(f'{i:4}. {col}')"
   ]
  },
  {
   "cell_type": "code",
   "execution_count": 15,
   "id": "81030790",
   "metadata": {},
   "outputs": [
    {
     "data": {
      "text/html": [
       "<div>\n",
       "<style scoped>\n",
       "    .dataframe tbody tr th:only-of-type {\n",
       "        vertical-align: middle;\n",
       "    }\n",
       "\n",
       "    .dataframe tbody tr th {\n",
       "        vertical-align: top;\n",
       "    }\n",
       "\n",
       "    .dataframe thead th {\n",
       "        text-align: right;\n",
       "    }\n",
       "</style>\n",
       "<table border=\"1\" class=\"dataframe\">\n",
       "  <thead>\n",
       "    <tr style=\"text-align: right;\">\n",
       "      <th></th>\n",
       "      <th>title</th>\n",
       "      <th>company</th>\n",
       "      <th>location</th>\n",
       "      <th>salary_estimate</th>\n",
       "      <th>description</th>\n",
       "    </tr>\n",
       "  </thead>\n",
       "  <tbody>\n",
       "    <tr>\n",
       "      <th>0</th>\n",
       "      <td>Senior Data Scientist</td>\n",
       "      <td>Hopper\\n3.5</td>\n",
       "      <td>New York, NY</td>\n",
       "      <td>$111K-$181K (Glassdoor est.)</td>\n",
       "      <td>ABOUT HOPPER\\n\\nAt Hopper, we’re on a mission ...</td>\n",
       "    </tr>\n",
       "    <tr>\n",
       "      <th>1</th>\n",
       "      <td>Data Scientist, Product Analytics</td>\n",
       "      <td>Noom US\\n4.5</td>\n",
       "      <td>New York, NY</td>\n",
       "      <td>$111K-$181K (Glassdoor est.)</td>\n",
       "      <td>At Noom, we use scientifically proven methods ...</td>\n",
       "    </tr>\n",
       "    <tr>\n",
       "      <th>2</th>\n",
       "      <td>Data Science Manager</td>\n",
       "      <td>Decode_M</td>\n",
       "      <td>New York, NY</td>\n",
       "      <td>$111K-$181K (Glassdoor est.)</td>\n",
       "      <td>Decode_M\\n\\nhttps://www.decode-m.com/\\n\\nData ...</td>\n",
       "    </tr>\n",
       "  </tbody>\n",
       "</table>\n",
       "</div>"
      ],
      "text/plain": [
       "                               title       company      location  \\\n",
       "0              Senior Data Scientist   Hopper\\n3.5  New York, NY   \n",
       "1  Data Scientist, Product Analytics  Noom US\\n4.5  New York, NY   \n",
       "2               Data Science Manager      Decode_M  New York, NY   \n",
       "\n",
       "                salary_estimate  \\\n",
       "0  $111K-$181K (Glassdoor est.)   \n",
       "1  $111K-$181K (Glassdoor est.)   \n",
       "2  $111K-$181K (Glassdoor est.)   \n",
       "\n",
       "                                         description  \n",
       "0  ABOUT HOPPER\\n\\nAt Hopper, we’re on a mission ...  \n",
       "1  At Noom, we use scientifically proven methods ...  \n",
       "2  Decode_M\\n\\nhttps://www.decode-m.com/\\n\\nData ...  "
      ]
     },
     "execution_count": 15,
     "metadata": {},
     "output_type": "execute_result"
    }
   ],
   "source": [
    "df.head(3)"
   ]
  },
  {
   "cell_type": "code",
   "execution_count": 16,
   "id": "348f48b1",
   "metadata": {},
   "outputs": [],
   "source": [
    "# first we will fix company field\n",
    "\n",
    "df[\"company\"] = df[\"company\"].apply(lambda x: x.split(\"\\n\")[0])"
   ]
  },
  {
   "cell_type": "code",
   "execution_count": 17,
   "id": "c08f64c2",
   "metadata": {},
   "outputs": [],
   "source": [
    "# then we will fix salary estimate values\n",
    "\n",
    "# column econding hourly salary\n",
    "df[\"hourly_salary\"] = df[\"salary_estimate\"].apply(lambda x: 1 if \"Per Hour\" in x else 0)\n",
    "\n",
    "# remove strings\n",
    "remove_strings = [\"K\", \"$\", \" (Glassdoor est.)\", \"(Employer est.)\", \"Per Hour(Glassdoor est.)\"]\n",
    "for item in remove_strings:\n",
    "    df[\"salary_estimate\"] = df[\"salary_estimate\"].apply(lambda x: x.replace(item, \"\"))\n",
    "\n",
    "# get mean of salary estimate\n",
    "df[\"salary_estimate\"] = df[\"salary_estimate\"].apply(lambda x: np.mean(list(map(int, x.split(\"-\")))))\n",
    "\n",
    "# update hour salaries to consistant with yearly data\n",
    "condition = df[\"hourly_salary\"] == 1\n",
    "df.loc[condition, \"salary_estimate\"] = df.loc[condition, \"hourly_salary\"].apply(lambda x: x * 40 * 52 / 1000)\n",
    "df.drop([\"hourly_salary\"], axis=1, inplace=True)\n",
    "\n",
    "# set salary type as int\n",
    "df['salary_estimate'] = df['salary_estimate'].astype('int')"
   ]
  },
  {
   "cell_type": "code",
   "execution_count": 18,
   "id": "ab54df67",
   "metadata": {},
   "outputs": [],
   "source": [
    "def clean_text(text):\n",
    "    \n",
    "    \"\"\" Given a sequence of text:\n",
    "            - convert all characters to lower case\n",
    "            - split text on \" \" character\n",
    "            - remove nltk english defined stop words\n",
    "            - remove words containing non alphanumerica values\n",
    "            - join with \" \" character\n",
    "            - return remaining data\n",
    "    \"\"\"    \n",
    "    text = text.lower().split()\n",
    "    text = [word.encode(\"ascii\", errors=\"ignore\").decode() for word in text if word not in stop_words and word.isalnum()]\n",
    "    \n",
    "    return \" \".join(text)"
   ]
  },
  {
   "cell_type": "code",
   "execution_count": 19,
   "id": "5f4234f5",
   "metadata": {},
   "outputs": [],
   "source": [
    "# clean titles and descriptions\n",
    "df[\"title\"] = [clean_text(df.loc[idx, \"title\"]) for idx in df.index]\n",
    "df[\"description\"] = [clean_text(df.loc[idx, \"description\"]) for idx in df.index]"
   ]
  },
  {
   "cell_type": "code",
   "execution_count": 26,
   "id": "96d39721",
   "metadata": {},
   "outputs": [
    {
     "name": "stdout",
     "output_type": "stream",
     "text": [
      "(3909, 5)\n",
      "(3909, 5)\n"
     ]
    }
   ],
   "source": [
    "print(df.shape)\n",
    "df.dropna(inplace=True)\n",
    "print(df.shape)\n",
    "df.to_csv('data/cleaned_jobs.csv', index=False)"
   ]
  },
  {
   "cell_type": "markdown",
   "id": "7a9eddc5",
   "metadata": {},
   "source": [
    "## Alright, now our data is clean! (or at least clean enough for now)"
   ]
  },
  {
   "cell_type": "code",
   "execution_count": 33,
   "id": "ba39f1eb",
   "metadata": {},
   "outputs": [
    {
     "data": {
      "text/plain": [
       "(array([], dtype=int64),)"
      ]
     },
     "execution_count": 33,
     "metadata": {},
     "output_type": "execute_result"
    }
   ],
   "source": [
    "np.where(pd.isna(df[\"title\"]))"
   ]
  },
  {
   "cell_type": "code",
   "execution_count": null,
   "id": "a7f1bbd4",
   "metadata": {},
   "outputs": [],
   "source": []
  }
 ],
 "metadata": {
  "kernelspec": {
   "display_name": "Python 3",
   "language": "python",
   "name": "python3"
  },
  "language_info": {
   "codemirror_mode": {
    "name": "ipython",
    "version": 3
   },
   "file_extension": ".py",
   "mimetype": "text/x-python",
   "name": "python",
   "nbconvert_exporter": "python",
   "pygments_lexer": "ipython3",
   "version": "3.8.8"
  }
 },
 "nbformat": 4,
 "nbformat_minor": 5
}
