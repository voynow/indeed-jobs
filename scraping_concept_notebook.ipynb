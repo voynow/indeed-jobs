{
 "cells": [
  {
   "cell_type": "code",
   "execution_count": 15,
   "id": "c6c406cb",
   "metadata": {},
   "outputs": [],
   "source": [
    "from selenium import webdriver\n",
    "from selenium.webdriver.common.keys import Keys\n",
    "from selenium.webdriver.common.by import By\n",
    "import time\n",
    "\n",
    "PATH = \"C:\\\\Program Files (x86)\\\\chromedriver.exe\""
   ]
  },
  {
   "cell_type": "code",
   "execution_count": 16,
   "id": "b03b9c2f",
   "metadata": {},
   "outputs": [],
   "source": [
    "def search(driver, position):\n",
    "    \n",
    "    # enter position name in search bar\n",
    "    search = driver.find_element_by_name(\"q\")\n",
    "    search.send_keys(position)\n",
    "\n",
    "    # clear loaction name\n",
    "    location = driver.find_element_by_id('text-input-where')\n",
    "    location.send_keys(Keys.CONTROL + \"a\")\n",
    "    location.send_keys(Keys.DELETE)\n",
    "\n",
    "    # execute search\n",
    "    search.send_keys(Keys.RETURN)"
   ]
  },
  {
   "cell_type": "code",
   "execution_count": 101,
   "id": "431028ea",
   "metadata": {},
   "outputs": [
    {
     "name": "stdout",
     "output_type": "stream",
     "text": [
      "Found 45 jobs\n"
     ]
    }
   ],
   "source": [
    "# create drivers, access indeede\n",
    "drivers = [webdriver.Chrome(PATH) for i in range(2)]\n",
    "drivers[0].get(\"https://www.indeed.com/\")\n",
    "\n",
    "# seach for data science, get jobs on page\n",
    "search(drivers[0], \"data science\")\n",
    "jobs = drivers[0].find_elements(By.CLASS_NAME,'result')\n",
    "\n",
    "# data collection\n",
    "headers = []\n",
    "descriptions = []\n",
    "\n",
    "# iterate over jobs\n",
    "for job in jobs:\n",
    "    \n",
    "    # access individual job container frame\n",
    "    job.click()\n",
    "    idek  = drivers[0].find_element(By.ID, \"vjs-container-iframe\")\n",
    "    \n",
    "    # open job container in seperate chrome driver\n",
    "    drivers[1].get(idek.get_attribute(\"src\"))\n",
    "    \n",
    "    # access header and description info\n",
    "    headers.append(drivers[1].find_element(By.CLASS_NAME, \"jobsearch-JobComponent-embeddedHeader\").text)\n",
    "    desciptions.append(drivers[1].find_element(By.ID, \"jobDescriptionText\").text)\n",
    "\n",
    "# close drivers\n",
    "[driver.close() for driver in drivers]\n",
    "print(f\"Found {len(desciptions)} jobs\")"
   ]
  },
  {
   "cell_type": "code",
   "execution_count": null,
   "id": "ed6d2d3b",
   "metadata": {},
   "outputs": [],
   "source": []
  }
 ],
 "metadata": {
  "kernelspec": {
   "display_name": "Python 3",
   "language": "python",
   "name": "python3"
  },
  "language_info": {
   "codemirror_mode": {
    "name": "ipython",
    "version": 3
   },
   "file_extension": ".py",
   "mimetype": "text/x-python",
   "name": "python",
   "nbconvert_exporter": "python",
   "pygments_lexer": "ipython3",
   "version": "3.8.8"
  }
 },
 "nbformat": 4,
 "nbformat_minor": 5
}
