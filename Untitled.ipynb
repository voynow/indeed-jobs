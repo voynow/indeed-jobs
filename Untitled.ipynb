{
 "cells": [
  {
   "cell_type": "code",
   "execution_count": 30,
   "id": "c6c406cb",
   "metadata": {},
   "outputs": [],
   "source": [
    "from selenium import webdriver\n",
    "from selenium.webdriver.common.keys import Keys\n",
    "import time\n",
    "\n",
    "PATH = \"C:\\\\Program Files (x86)\\\\chromedriver.exe\""
   ]
  },
  {
   "cell_type": "code",
   "execution_count": 32,
   "id": "b03b9c2f",
   "metadata": {},
   "outputs": [],
   "source": [
    "def search(driver, position=\"data science\"):\n",
    "    \n",
    "    search = driver.find_element_by_name(\"q\")\n",
    "    search.send_keys(position)\n",
    "\n",
    "    location = driver.find_element_by_id('text-input-where')\n",
    "    location.send_keys(Keys.CONTROL + \"a\")\n",
    "    location.send_keys(Keys.DELETE)\n",
    "\n",
    "    search.send_keys(Keys.RETURN)"
   ]
  },
  {
   "cell_type": "code",
   "execution_count": 33,
   "id": "431028ea",
   "metadata": {},
   "outputs": [],
   "source": [
    "driver = webdriver.Chrome(PATH)\n",
    "driver.get(\"https://www.indeed.com/\")\n",
    "\n",
    "search(driver)"
   ]
  },
  {
   "cell_type": "code",
   "execution_count": 27,
   "id": "065d74bc",
   "metadata": {},
   "outputs": [],
   "source": []
  },
  {
   "cell_type": "code",
   "execution_count": null,
   "id": "39858b23",
   "metadata": {},
   "outputs": [],
   "source": []
  }
 ],
 "metadata": {
  "kernelspec": {
   "display_name": "Python 3",
   "language": "python",
   "name": "python3"
  },
  "language_info": {
   "codemirror_mode": {
    "name": "ipython",
    "version": 3
   },
   "file_extension": ".py",
   "mimetype": "text/x-python",
   "name": "python",
   "nbconvert_exporter": "python",
   "pygments_lexer": "ipython3",
   "version": "3.8.8"
  }
 },
 "nbformat": 4,
 "nbformat_minor": 5
}
